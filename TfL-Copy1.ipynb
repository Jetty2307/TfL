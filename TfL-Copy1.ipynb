{
 "cells": [
  {
   "cell_type": "code",
   "execution_count": 1,
   "id": "fe01cfc9",
   "metadata": {},
   "outputs": [],
   "source": [
    "from tfl.client import Client\n",
    "from tfl.api_token import ApiToken\n",
    "\n",
    "app_id = 'Subscription_Peterson'\n",
    "app_key = '8d1f8ab05c7c49db81dd99c40f70574c'\n",
    "\n",
    "token = ApiToken(app_id, app_key)\n",
    "\n",
    "client = Client(token)\n",
    "#print (client.get_line_meta_modes())\n",
    "#print (client.get_lines(mode=\"bus\")[0])\n",
    "#print (client.get_lines(line_id=\"victoria\")[0])\n",
    "\n"
   ]
  },
  {
   "cell_type": "code",
   "execution_count": 2,
   "id": "3314bf42",
   "metadata": {},
   "outputs": [],
   "source": [
    "import requests\n",
    "from collections import defaultdict\n",
    "import time\n"
   ]
  },
  {
   "cell_type": "code",
   "execution_count": 3,
   "id": "4e6948ce",
   "metadata": {},
   "outputs": [
    {
     "name": "stdout",
     "output_type": "stream",
     "text": [
      "200\n"
     ]
    }
   ],
   "source": [
    "import urllib.request, json\n",
    "import requests\n",
    "\n",
    "try:\n",
    "    url = \"https://api.tfl.gov.uk/crowding/940GZZLUSKS/Live?app_key=8d1f8ab05c7c49db81dd99c40f70574c\"\n",
    "    hdr ={\n",
    "    # Request headers\n",
    "    'Cache-Control': 'no-cache',\n",
    "    }\n",
    "\n",
    "    req = urllib.request.Request(url, headers=hdr)\n",
    "    req.get_method = lambda: 'GET'\n",
    "    response = urllib.request.urlopen(req)\n",
    "    print(response.getcode())\n",
    "#    print(response.read())\n",
    "except Exception as e:\n",
    "    print(e)\n",
    "    \n",
    "    "
   ]
  },
  {
   "cell_type": "code",
   "execution_count": 4,
   "id": "2d69eaf6",
   "metadata": {},
   "outputs": [
    {
     "name": "stdout",
     "output_type": "stream",
     "text": [
      "<http.client.HTTPResponse object at 0x106b295b0>\n"
     ]
    }
   ],
   "source": [
    "print(response)\n",
    "\n"
   ]
  },
  {
   "cell_type": "code",
   "execution_count": 5,
   "id": "3b344464",
   "metadata": {},
   "outputs": [],
   "source": [
    "import pandas as pd\n"
   ]
  },
  {
   "cell_type": "code",
   "execution_count": 6,
   "id": "a8b9adab",
   "metadata": {},
   "outputs": [],
   "source": [
    "import sys\n",
    "\n",
    "class Line:    \n",
    "       \n",
    "    def __init__(self,name,color):\n",
    "        self.name = name\n",
    "        self.color = color\n",
    "        \n",
    "        \n",
    "class Station(Line):\n",
    "    \n",
    "    def __init__(self,linename,color,naptan,commonname,latitude,longitude):\n",
    "        super().__init__(linename,color)\n",
    "        self.naptan = naptan\n",
    "\n",
    "    \n",
    "bakerloo = Line(\"bakerloo\",\"#B36305\")\n",
    "central = Line(\"central\",\"#E32017\")\n",
    "circle =  Line(\"circle\",\"#FFD300\")\n",
    "district = Line(\"district\",\"#00782A\")\n",
    "hammersmith = Line(\"hammersmith-city\",\"#F3A9BB\")\n",
    "jubilee = Line(\"jubilee\",\"#A0A5A9\")\n",
    "metropolitan = Line(\"metropolitan\",\"#9B0056\")\n",
    "northern = Line(\"northern\",\"#000000\")\n",
    "piccadilly = Line(\"piccadilly\",\"#003688\")\n",
    "victoria = Line(\"victoria\",\"#0098D4\")\n",
    "waterloo = Line(\"waterloo-city\",\"#95CDBA\")\n",
    "\n",
    "tube_lines = [bakerloo,central,circle,district,hammersmith,jubilee,metropolitan,northern,piccadilly,victoria,waterloo]\n",
    "#tube_lines.append(bakerloo = Line(\"bakerloo\",\"#B36305\")\n",
    "\n",
    "\n",
    "#tube_lines = [(\"bakerloo\",\"#B36305\"),(\"central\",\"#E32017\"),(\"circle\",\"#FFD300\"),(\"district\",\"#00782A\"),(\"hammersmith-city\",\"#F3A9BB\"),(\"jubilee\",\"#A0A5A9\"),(\"metropolitan\",\"#9B0056\"),(\"northern\",\"#000000\"),(\"piccadilly\",\"#003688\"),(\"victoria\",\"#0098D4\"),(\"waterloo-city\",\"#95CDBA\")]\n"
   ]
  },
  {
   "cell_type": "code",
   "execution_count": 7,
   "id": "cd9c4cc1",
   "metadata": {},
   "outputs": [],
   "source": [
    "# use requests to interact with an API\n",
    "import zipfile, io\n",
    "\n",
    "# The API path should be stated in the documentation \n",
    "\n",
    "api_path = \"https://api.tfl.gov.uk/crowding/940GZZLUSKS/Live?app_key=8d1f8ab05c7c49db81dd99c40f70574c\"\n",
    "\n",
    "stations = defaultdict(list)\n",
    "\n",
    "for line in tube_lines:\n",
    "    api_path1 = \"https://api.tfl.gov.uk/Line/%s/StopPoints\" % line.name\n",
    "    r1 = requests.get(api_path1).json()\n",
    "    \n",
    "    for entry in r1:\n",
    "        stations[entry[\"naptanId\"]] = Station(line.name, line.color, entry[\"naptanId\"], entry[\"commonName\"][:-20],0,0)     \n",
    "        \n",
    "url_coord = \"https://api.tfl.gov.uk/stationdata/tfl-stationdata-detailed.zip\"\n",
    "\n",
    "r = requests.get(url_coord)\n",
    "z = zipfile.ZipFile(io.BytesIO(r.content))\n",
    "z.extractall(\"./details\")\n",
    "\n",
    "df = pd.read_csv(\"./details/StationPoints.csv\")\n",
    "\n",
    "req = urllib.request.Request(url_coord, headers=hdr)\n",
    "\n",
    "req.get_method = lambda: 'GET'\n",
    "response = urllib.request.urlopen(req)\n"
   ]
  },
  {
   "cell_type": "code",
   "execution_count": 8,
   "id": "426791a9",
   "metadata": {},
   "outputs": [],
   "source": [
    "i = 0\n",
    "for stop in df.StationUniqueId:\n",
    "    i +=1\n",
    "    if stop in list(stations.keys()) and df.FriendlyName.iloc[i].startswith(('Sub','Met','MET')):\n",
    "        \n",
    "        stations[stop].latitude = df.Lat.iloc[i]\n",
    "        stations[stop].longitude = df.Lon.iloc[i]             "
   ]
  },
  {
   "cell_type": "code",
   "execution_count": 9,
   "id": "ab46357c",
   "metadata": {},
   "outputs": [
    {
     "data": {
      "text/plain": [
       "51.52285"
      ]
     },
     "execution_count": 9,
     "metadata": {},
     "output_type": "execute_result"
    }
   ],
   "source": [
    "stations['940GZZLUBST'].latitude"
   ]
  },
  {
   "cell_type": "code",
   "execution_count": 10,
   "id": "da1d8298",
   "metadata": {},
   "outputs": [],
   "source": [
    "from datetime import datetime, timedelta\n",
    "\n",
    "time_list = []\n",
    "start_time = datetime.strptime(\"00:00\",\"%H:%M\")\n",
    "\n",
    "time_interval = timedelta(minutes=15)\n",
    "\n",
    "while start_time.strftime(\"%H:%M\") != \"00:00\" or len(time_list) == 0:\n",
    "    time_list.append(start_time.strftime(\"%H:%M\"))\n",
    "    start_time += time_interval\n",
    "    "
   ]
  },
  {
   "cell_type": "code",
   "execution_count": 11,
   "id": "b790761c",
   "metadata": {},
   "outputs": [
    {
     "ename": "JSONDecodeError",
     "evalue": "Expecting value: line 1 column 1 (char 0)",
     "output_type": "error",
     "traceback": [
      "\u001b[0;31m---------------------------------------------------------------------------\u001b[0m",
      "\u001b[0;31mJSONDecodeError\u001b[0m                           Traceback (most recent call last)",
      "File \u001b[0;32m~/miniconda3/lib/python3.8/site-packages/requests/models.py:971\u001b[0m, in \u001b[0;36mResponse.json\u001b[0;34m(self, **kwargs)\u001b[0m\n\u001b[1;32m    970\u001b[0m \u001b[38;5;28;01mtry\u001b[39;00m:\n\u001b[0;32m--> 971\u001b[0m     \u001b[38;5;28;01mreturn\u001b[39;00m \u001b[43mcomplexjson\u001b[49m\u001b[38;5;241;43m.\u001b[39;49m\u001b[43mloads\u001b[49m\u001b[43m(\u001b[49m\u001b[38;5;28;43mself\u001b[39;49m\u001b[38;5;241;43m.\u001b[39;49m\u001b[43mtext\u001b[49m\u001b[43m,\u001b[49m\u001b[43m \u001b[49m\u001b[38;5;241;43m*\u001b[39;49m\u001b[38;5;241;43m*\u001b[39;49m\u001b[43mkwargs\u001b[49m\u001b[43m)\u001b[49m\n\u001b[1;32m    972\u001b[0m \u001b[38;5;28;01mexcept\u001b[39;00m JSONDecodeError \u001b[38;5;28;01mas\u001b[39;00m e:\n\u001b[1;32m    973\u001b[0m     \u001b[38;5;66;03m# Catch JSON-related errors and raise as requests.JSONDecodeError\u001b[39;00m\n\u001b[1;32m    974\u001b[0m     \u001b[38;5;66;03m# This aliases json.JSONDecodeError and simplejson.JSONDecodeError\u001b[39;00m\n",
      "File \u001b[0;32m~/miniconda3/lib/python3.8/json/__init__.py:357\u001b[0m, in \u001b[0;36mloads\u001b[0;34m(s, cls, object_hook, parse_float, parse_int, parse_constant, object_pairs_hook, **kw)\u001b[0m\n\u001b[1;32m    354\u001b[0m \u001b[38;5;28;01mif\u001b[39;00m (\u001b[38;5;28mcls\u001b[39m \u001b[38;5;129;01mis\u001b[39;00m \u001b[38;5;28;01mNone\u001b[39;00m \u001b[38;5;129;01mand\u001b[39;00m object_hook \u001b[38;5;129;01mis\u001b[39;00m \u001b[38;5;28;01mNone\u001b[39;00m \u001b[38;5;129;01mand\u001b[39;00m\n\u001b[1;32m    355\u001b[0m         parse_int \u001b[38;5;129;01mis\u001b[39;00m \u001b[38;5;28;01mNone\u001b[39;00m \u001b[38;5;129;01mand\u001b[39;00m parse_float \u001b[38;5;129;01mis\u001b[39;00m \u001b[38;5;28;01mNone\u001b[39;00m \u001b[38;5;129;01mand\u001b[39;00m\n\u001b[1;32m    356\u001b[0m         parse_constant \u001b[38;5;129;01mis\u001b[39;00m \u001b[38;5;28;01mNone\u001b[39;00m \u001b[38;5;129;01mand\u001b[39;00m object_pairs_hook \u001b[38;5;129;01mis\u001b[39;00m \u001b[38;5;28;01mNone\u001b[39;00m \u001b[38;5;129;01mand\u001b[39;00m \u001b[38;5;129;01mnot\u001b[39;00m kw):\n\u001b[0;32m--> 357\u001b[0m     \u001b[38;5;28;01mreturn\u001b[39;00m \u001b[43m_default_decoder\u001b[49m\u001b[38;5;241;43m.\u001b[39;49m\u001b[43mdecode\u001b[49m\u001b[43m(\u001b[49m\u001b[43ms\u001b[49m\u001b[43m)\u001b[49m\n\u001b[1;32m    358\u001b[0m \u001b[38;5;28;01mif\u001b[39;00m \u001b[38;5;28mcls\u001b[39m \u001b[38;5;129;01mis\u001b[39;00m \u001b[38;5;28;01mNone\u001b[39;00m:\n",
      "File \u001b[0;32m~/miniconda3/lib/python3.8/json/decoder.py:337\u001b[0m, in \u001b[0;36mJSONDecoder.decode\u001b[0;34m(self, s, _w)\u001b[0m\n\u001b[1;32m    333\u001b[0m \u001b[38;5;250m\u001b[39m\u001b[38;5;124;03m\"\"\"Return the Python representation of ``s`` (a ``str`` instance\u001b[39;00m\n\u001b[1;32m    334\u001b[0m \u001b[38;5;124;03mcontaining a JSON document).\u001b[39;00m\n\u001b[1;32m    335\u001b[0m \n\u001b[1;32m    336\u001b[0m \u001b[38;5;124;03m\"\"\"\u001b[39;00m\n\u001b[0;32m--> 337\u001b[0m obj, end \u001b[38;5;241m=\u001b[39m \u001b[38;5;28;43mself\u001b[39;49m\u001b[38;5;241;43m.\u001b[39;49m\u001b[43mraw_decode\u001b[49m\u001b[43m(\u001b[49m\u001b[43ms\u001b[49m\u001b[43m,\u001b[49m\u001b[43m \u001b[49m\u001b[43midx\u001b[49m\u001b[38;5;241;43m=\u001b[39;49m\u001b[43m_w\u001b[49m\u001b[43m(\u001b[49m\u001b[43ms\u001b[49m\u001b[43m,\u001b[49m\u001b[43m \u001b[49m\u001b[38;5;241;43m0\u001b[39;49m\u001b[43m)\u001b[49m\u001b[38;5;241;43m.\u001b[39;49m\u001b[43mend\u001b[49m\u001b[43m(\u001b[49m\u001b[43m)\u001b[49m\u001b[43m)\u001b[49m\n\u001b[1;32m    338\u001b[0m end \u001b[38;5;241m=\u001b[39m _w(s, end)\u001b[38;5;241m.\u001b[39mend()\n",
      "File \u001b[0;32m~/miniconda3/lib/python3.8/json/decoder.py:355\u001b[0m, in \u001b[0;36mJSONDecoder.raw_decode\u001b[0;34m(self, s, idx)\u001b[0m\n\u001b[1;32m    354\u001b[0m \u001b[38;5;28;01mexcept\u001b[39;00m \u001b[38;5;167;01mStopIteration\u001b[39;00m \u001b[38;5;28;01mas\u001b[39;00m err:\n\u001b[0;32m--> 355\u001b[0m     \u001b[38;5;28;01mraise\u001b[39;00m JSONDecodeError(\u001b[38;5;124m\"\u001b[39m\u001b[38;5;124mExpecting value\u001b[39m\u001b[38;5;124m\"\u001b[39m, s, err\u001b[38;5;241m.\u001b[39mvalue) \u001b[38;5;28;01mfrom\u001b[39;00m \u001b[38;5;28;01mNone\u001b[39;00m\n\u001b[1;32m    356\u001b[0m \u001b[38;5;28;01mreturn\u001b[39;00m obj, end\n",
      "\u001b[0;31mJSONDecodeError\u001b[0m: Expecting value: line 1 column 1 (char 0)",
      "\nDuring handling of the above exception, another exception occurred:\n",
      "\u001b[0;31mJSONDecodeError\u001b[0m                           Traceback (most recent call last)",
      "Cell \u001b[0;32mIn[11], line 11\u001b[0m\n\u001b[1;32m      8\u001b[0m     \u001b[38;5;28;01mfor\u001b[39;00m station \u001b[38;5;129;01min\u001b[39;00m stations\u001b[38;5;241m.\u001b[39mkeys():    \n\u001b[1;32m      9\u001b[0m         api_path \u001b[38;5;241m=\u001b[39m \u001b[38;5;124m\"\u001b[39m\u001b[38;5;124mhttps://api.tfl.gov.uk/crowding/\u001b[39m\u001b[38;5;132;01m%s\u001b[39;00m\u001b[38;5;124m/\u001b[39m\u001b[38;5;132;01m%s\u001b[39;00m\u001b[38;5;124m?app_key=8d1f8ab05c7c49db81dd99c40f70574c\u001b[39m\u001b[38;5;124m\"\u001b[39m \u001b[38;5;241m%\u001b[39m (station, day)\n\u001b[0;32m---> 11\u001b[0m         r \u001b[38;5;241m=\u001b[39m \u001b[43mrequests\u001b[49m\u001b[38;5;241;43m.\u001b[39;49m\u001b[43mget\u001b[49m\u001b[43m(\u001b[49m\u001b[43mapi_path\u001b[49m\u001b[43m)\u001b[49m\u001b[38;5;241;43m.\u001b[39;49m\u001b[43mjson\u001b[49m\u001b[43m(\u001b[49m\u001b[43m)\u001b[49m\n\u001b[1;32m     13\u001b[0m         \u001b[38;5;28;01mfor\u001b[39;00m interval \u001b[38;5;129;01min\u001b[39;00m \u001b[38;5;28mrange\u001b[39m(\u001b[38;5;241m95\u001b[39m):\n\u001b[1;32m     14\u001b[0m     \n\u001b[1;32m     15\u001b[0m \u001b[38;5;66;03m#        for station in stations.keys():         \u001b[39;00m\n\u001b[1;32m     16\u001b[0m             \u001b[38;5;28;01mtry\u001b[39;00m:\n\u001b[1;32m     17\u001b[0m                 \u001b[38;5;66;03m#print(r[\"timeBands\"][1][\"percentageOfBaseLine\"])\u001b[39;00m\n",
      "File \u001b[0;32m~/miniconda3/lib/python3.8/site-packages/requests/models.py:975\u001b[0m, in \u001b[0;36mResponse.json\u001b[0;34m(self, **kwargs)\u001b[0m\n\u001b[1;32m    971\u001b[0m     \u001b[38;5;28;01mreturn\u001b[39;00m complexjson\u001b[38;5;241m.\u001b[39mloads(\u001b[38;5;28mself\u001b[39m\u001b[38;5;241m.\u001b[39mtext, \u001b[38;5;241m*\u001b[39m\u001b[38;5;241m*\u001b[39mkwargs)\n\u001b[1;32m    972\u001b[0m \u001b[38;5;28;01mexcept\u001b[39;00m JSONDecodeError \u001b[38;5;28;01mas\u001b[39;00m e:\n\u001b[1;32m    973\u001b[0m     \u001b[38;5;66;03m# Catch JSON-related errors and raise as requests.JSONDecodeError\u001b[39;00m\n\u001b[1;32m    974\u001b[0m     \u001b[38;5;66;03m# This aliases json.JSONDecodeError and simplejson.JSONDecodeError\u001b[39;00m\n\u001b[0;32m--> 975\u001b[0m     \u001b[38;5;28;01mraise\u001b[39;00m RequestsJSONDecodeError(e\u001b[38;5;241m.\u001b[39mmsg, e\u001b[38;5;241m.\u001b[39mdoc, e\u001b[38;5;241m.\u001b[39mpos)\n",
      "\u001b[0;31mJSONDecodeError\u001b[0m: Expecting value: line 1 column 1 (char 0)"
     ]
    }
   ],
   "source": [
    "day_station = {'Mon':{},'Tue':{},'Wed':{},'Thu':{},\"Fri\":{},'Sat':{},'Sun':{}}\n",
    "\n",
    "for day in day_station.keys():\n",
    "    \n",
    "    for interval in range(95):\n",
    "        day_station[day][time_list[interval]] = {}\n",
    "    \n",
    "    for station in stations.keys():    \n",
    "        api_path = \"https://api.tfl.gov.uk/crowding/%s/%s?app_key=8d1f8ab05c7c49db81dd99c40f70574c\" % (station, day)\n",
    "    \n",
    "        r = requests.get(api_path).json()\n",
    "\n",
    "        for interval in range(95):\n",
    "    \n",
    "#        for station in stations.keys():         \n",
    "            try:\n",
    "                #print(r[\"timeBands\"][1][\"percentageOfBaseLine\"])\n",
    "                day_station[day][time_list[interval]][station] = r[\"timeBands\"][interval][\"percentageOfBaseLine\"]\n",
    "            except:\n",
    "                continue\n",
    "        \n",
    "        #print(r['percentageOfBaseline'])\n",
    "        "
   ]
  },
  {
   "cell_type": "code",
   "execution_count": null,
   "id": "7fce1416",
   "metadata": {},
   "outputs": [],
   "source": [
    "from geopy.geocoders import ArcGIS\n",
    "import folium\n",
    "\n",
    "import ipywidgets as widgets\n",
    "from IPython.display import display, clear_output\n",
    "\n",
    "from geopy.geocoders import Nominatim\n",
    "geolocator = Nominatim(user_agent=\"location_details\")\n",
    "\n",
    "location = geolocator.geocode(\"London\")\n",
    "print((location.latitude, location.longitude))\n",
    "\n",
    "selected_day = 'Mon'\n",
    "selected_time = 0\n",
    "\n",
    "def create_map(dayofweek,interval):\n",
    "    # Clear previous output to avoid multiple maps showing up\n",
    "    clear_output(wait=True)\n",
    "    \n",
    "    # Create a map centered on the initial position\n",
    "    mymap = folium.Map(location=[location.latitude, location.longitude], zoom_start=12)\n",
    "\n",
    "    # Add markers based on the current time_step\n",
    "    for naptan, station in stations.items():\n",
    "        try:\n",
    "            coef = day_station[dayofweek][interval][naptan]\n",
    "            popup_info = station.commonname+'\\n'+str(coef)\n",
    "            try:\n",
    "                folium.Circle(location=[station.latitude,station.longitude],radius=500*coef,popup=popup_info,color=station.color,fill=True,fill_color=station.color,fill_opacity=0.4).add_to(mymap)\n",
    "            except:\n",
    "                continue\n",
    "        except:\n",
    "            continue\n",
    "    display(day_buttons)\n",
    "    display(min15_slider)\n",
    "    display(mymap)\n",
    "    "
   ]
  },
  {
   "cell_type": "code",
   "execution_count": null,
   "id": "b9301dd8",
   "metadata": {
    "scrolled": false
   },
   "outputs": [],
   "source": [
    "min15_slider = widgets.SelectionSlider(\n",
    "    options=time_list,\n",
    "    value=time_list[0],  # Default value\n",
    "    description='Time:',\n",
    "    continuous_update=False  # Update map only when slider is released\n",
    ")\n",
    "\n",
    "day_buttons = widgets.ToggleButtons(\n",
    "    options=list(day_station.keys()),\n",
    "    description='Day:',\n",
    "    button_style='',  # Default style\n",
    ")\n",
    "\n",
    "\n",
    "day_buttons.style.button_width = '70px'  # Width of each button\n",
    "day_buttons.style.font_weight = 'bold'\n",
    "\n",
    "def on_day_change(change):\n",
    "    # Highlight the selected button\n",
    "    global selected_day\n",
    "    selected_day = change[\"new\"]\n",
    "    day_buttons.button_style = ''\n",
    "    day_buttons.style.button_color = ''  # Reset previous styles\n",
    "    create_map(selected_day, selected_time)\n",
    "    \n",
    "def on_time_change(change):\n",
    "    global selected_time\n",
    "    selected_time = change[\"new\"]\n",
    "    create_map(selected_day, selected_time)\n",
    "    \n",
    "day_buttons.observe(on_day_change, names='value')\n",
    "min15_slider.observe(on_time_change, names='value')\n",
    "\n",
    "display(day_buttons)\n",
    "display(min15_slider)\n",
    "\n",
    "create_map(selected_day, selected_time)"
   ]
  },
  {
   "cell_type": "code",
   "execution_count": null,
   "id": "4e8a5606",
   "metadata": {},
   "outputs": [],
   "source": [
    "mymap1=folium.Map(location=[location.latitude, location.longitude],zoom_start=12)\n",
    "title_html = '''\n",
    "     <h3 align=\"center\" style=\"font-size:16px\"><b>Live status</b></h3>\n",
    "     '''\n",
    "mymap1.get_root().html.add_child(folium.Element(title_html))\n",
    "\n",
    "import folium.plugins as plugins\n",
    "\n",
    "for naptan, station in stations.items():\n",
    "    \n",
    "    api_path = \"https://api.tfl.gov.uk/crowding/%s/Live?app_key=8d1f8ab05c7c49db81dd99c40f70574c\" % naptan\n",
    "    \n",
    "    r = requests.get(api_path).json()\n",
    "    coef = r['percentageOfBaseline']\n",
    "    popup_info = station[2]+'\\n'+str(coef)\n",
    "    \n",
    "    try:        \n",
    "        folium.Circle(location=[station[3],station[4]],radius=500*coef,popup=popup_info,color=station[1],fill=True,fill_color=station[1],fill_opacity=0.4).add_to(mymap1)\n",
    "    except:\n",
    "        continue\n",
    "\n",
    "mymap1"
   ]
  },
  {
   "cell_type": "code",
   "execution_count": null,
   "id": "b099228f",
   "metadata": {},
   "outputs": [],
   "source": [
    "live_data2 = {}\n",
    "\n",
    "for naptan, station in stations.items():\n",
    "    live_data2[naptan] = {}\n",
    "    "
   ]
  },
  {
   "cell_type": "code",
   "execution_count": null,
   "id": "a1d5a521",
   "metadata": {},
   "outputs": [],
   "source": [
    "#url = \"https://api.tfl.gov.uk/crowding/940GZZLUSKS/Live?app_key=8d1f8ab05c7c49db81dd99c40f70574c\"\n",
    "\n",
    "# Headers or parameters if needed\n",
    "#headers = {'Authorization': 'Bearer YOUR_ACCESS_TOKEN'}\n",
    "\n",
    "# Define the interval (10 minutes in seconds)\n",
    "interval = 5 * 60  # 10 minutes\n",
    "\n",
    "#live_data = {}\n",
    "\n",
    "# Function to make the REST request\n",
    "def make_request():\n",
    "    try:\n",
    "        response = requests.get(url)\n",
    "        if response.status_code == 200:\n",
    "            data = response.json()\n",
    "            # Process the data as needed\n",
    "            print(f\"Data received: {data}\")\n",
    "        else:\n",
    "            print(f\"Failed to retrieve data, status code: {response.status_code}\")\n",
    "    except requests.RequestException as e:\n",
    "        print(f\"Request failed: {e}\")\n",
    "\n",
    "def make_live_request():       \n",
    "    for naptan, station in stations.items():\n",
    "        #live_data[naptan] = {}\n",
    "        api_path = \"https://api.tfl.gov.uk/crowding/%s/Live?app_key=8d1f8ab05c7c49db81dd99c40f70574c\" % naptan  \n",
    "        try:\n",
    "            response = requests.get(api_path)\n",
    "            r = requests.get(api_path).json()\n",
    "            if response.status_code == 200:\n",
    "                time = r['timeLocal']\n",
    "                coef = r['percentageOfBaseline']\n",
    "                print(r)\n",
    "                live_data2[naptan][time] = coef\n",
    "            else:\n",
    "                print(f\"Failed to retrieve data, status code: {response.status_code}\")\n",
    "        except requests.RequestException as e:\n",
    "            print(f\"Request failed: {e}\")\n",
    "  #  print(live_data['940GZZLUSKS'])\n",
    "# Loop to request data every 10 minutes\n",
    "while True:\n",
    "    make_live_request()\n",
    "    time.sleep(interval)  # Wait for the specified interval before making the next request"
   ]
  }
 ],
 "metadata": {
  "kernelspec": {
   "display_name": "Python 3 (ipykernel)",
   "language": "python",
   "name": "python3"
  },
  "language_info": {
   "codemirror_mode": {
    "name": "ipython",
    "version": 3
   },
   "file_extension": ".py",
   "mimetype": "text/x-python",
   "name": "python",
   "nbconvert_exporter": "python",
   "pygments_lexer": "ipython3",
   "version": "3.8.16"
  }
 },
 "nbformat": 4,
 "nbformat_minor": 5
}
