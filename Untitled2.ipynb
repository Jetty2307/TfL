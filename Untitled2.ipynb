{
 "cells": [
  {
   "cell_type": "code",
   "execution_count": 10,
   "id": "302dc2e6",
   "metadata": {},
   "outputs": [],
   "source": [
    "import matplotlib.pyplot as plt\n",
    "from matplotlib.dates import DateFormatter"
   ]
  },
  {
   "cell_type": "code",
   "execution_count": 11,
   "id": "4eeac872",
   "metadata": {},
   "outputs": [],
   "source": [
    "import requests\n",
    "from collections import defaultdict\n",
    "import time\n",
    "import urllib.request, json"
   ]
  },
  {
   "cell_type": "code",
   "execution_count": 25,
   "id": "05cbd03b",
   "metadata": {},
   "outputs": [],
   "source": [
    "import pandas as pd\n",
    "import numpy as np"
   ]
  },
  {
   "cell_type": "code",
   "execution_count": 14,
   "id": "83ee49f9",
   "metadata": {},
   "outputs": [],
   "source": [
    "# use requests to interact with an API\n",
    "import requests, zipfile, io\n",
    "\n",
    "# The API path should be stated in the documentation \n",
    "#api_path = 'https://api.tfl.gov.uk/journey/journeyresults/westminster/to/bank'\n",
    "api_path = \"https://api.tfl.gov.uk/crowding/940GZZLUSKS/Live?app_key=8d1f8ab05c7c49db81dd99c40f70574c\"\n",
    "\n",
    "tube_lines = [(\"bakerloo\",\"#B36305\"),(\"central\",\"#E32017\"),(\"circle\",\"#FFD300\"),(\"district\",\"#00782A\"),(\"hammersmith-city\",\"#F3A9BB\"),(\"jubilee\",\"#A0A5A9\"),(\"metropolitan\",\"#9B0056\"),(\"northern\",\"#000000\"),(\"piccadilly\",\"#003688\"),(\"victoria\",\"#0098D4\"),(\"waterloo-city\",\"#95CDBA\")]\n",
    "#tube_lines = {\"bakerloo\":\"#B36305\",\"central\":\"#E32017\",\"circle\":\"#FFD300\",\"district\":\"#00782A\",\"hammersmith-city\":\"#F3A9BB\",\"jubilee\":\"#A0A5A9\",\"metropolitan\":\"#9B0056\",\"northern\":\"#000000\",\"piccadilly\":\"#003688\",\"victoria\":\"#0098D4\",\"waterloo-city\":\"#95CDBA\"}\n",
    "\n",
    "stations = defaultdict(list)\n",
    "\n",
    "#api_path = \"https://api.tfl.gov.uk/crowding/940GZZLUSKS/Wed?app_key=8d1f8ab05c7c49db81dd99c40f70574c\"\n",
    "\n",
    "for line, color in tube_lines:\n",
    "    api_path1 = \"https://api.tfl.gov.uk/Line/%s/StopPoints\" % line\n",
    "    r1 = requests.get(api_path1).json()\n",
    "    \n",
    "    for entry in r1:\n",
    "        stations[entry[\"naptanId\"]] = [line, color, entry[\"commonName\"][:-20]]      "
   ]
  },
  {
   "cell_type": "code",
   "execution_count": 16,
   "id": "aed04ae9",
   "metadata": {},
   "outputs": [],
   "source": [
    "from datetime import datetime, timedelta\n",
    "\n",
    "time_list = []\n",
    "start_time = datetime.strptime(\"00:00\",\"%H:%M\")\n",
    "\n",
    "time_interval = timedelta(minutes=15)\n",
    "\n",
    "while start_time.strftime(\"%H:%M\") != \"00:00\" or len(time_list) == 0:\n",
    "    time_list.append(start_time.strftime(\"%H:%M\"))\n",
    "    start_time += time_interval"
   ]
  },
  {
   "cell_type": "code",
   "execution_count": 17,
   "id": "767d5a82",
   "metadata": {},
   "outputs": [],
   "source": [
    "day_station = {'Mon':{},'Tue':{},'Wed':{},'Thu':{},\"Fri\":{},'Sat':{},'Sun':{}}\n",
    "\n",
    "for day in day_station.keys():\n",
    "    \n",
    "    for interval in range(95):\n",
    "        day_station[day][time_list[interval]] = {}\n",
    "    \n",
    "    for station in stations.keys():    \n",
    "        # api_path = \"https://api.tfl.gov.uk/crowding/940GZZLUSKS/Live?app_key=8d1f8ab05c7c49db81dd99c40f70574c\"\n",
    "        api_path = \"https://api.tfl.gov.uk/crowding/%s/%s?app_key=8d1f8ab05c7c49db81dd99c40f70574c\" % (station, day)\n",
    "    \n",
    "        r = requests.get(api_path).json()\n",
    "\n",
    "        for interval in range(95):\n",
    "    \n",
    "#        for station in stations.keys():         \n",
    "            try:\n",
    "                #print(r[\"timeBands\"][1][\"percentageOfBaseLine\"])\n",
    "                day_station[day][time_list[interval]][station] = r[\"timeBands\"][interval][\"percentageOfBaseLine\"]\n",
    "            except:\n",
    "                continue"
   ]
  },
  {
   "cell_type": "code",
   "execution_count": 29,
   "id": "0327e895",
   "metadata": {},
   "outputs": [],
   "source": [
    "day_load = {'Mon':{},'Tue':{},'Wed':{},'Thu':{},\"Fri\":{},'Sat':{},'Sun':{}}\n",
    "\n",
    "\n",
    "for day in day_station.keys():\n",
    "    df = pd.DataFrame.from_dict(day_station[day], orient='index')\n",
    "    day_load[day] = df.values.mean()"
   ]
  },
  {
   "cell_type": "code",
   "execution_count": 48,
   "id": "a02b1e53",
   "metadata": {},
   "outputs": [
    {
     "data": {
      "text/plain": [
       "Text(0.5, 1.0, 'Crowding through day (normalized, all stations)')"
      ]
     },
     "execution_count": 48,
     "metadata": {},
     "output_type": "execute_result"
    },
    {
     "data": {
      "image/png": "[encoded data removed]",
      "text/plain": [
       "<Figure size 640x480 with 1 Axes>"
      ]
     },
     "metadata": {},
     "output_type": "display_data"
    }
   ],
   "source": [
    "plt.bar(range(len(day_load)), list(list(day_load.values())/max(list(day_load.values()))), align='center')\n",
    "plt.xticks(range(len(day_load)), list(day_load.keys()))\n",
    "plt.title('Crowding through day (normalized, all stations)')"
   ]
  },
  {
   "cell_type": "code",
   "execution_count": 46,
   "id": "d1f9dec9",
   "metadata": {},
   "outputs": [],
   "source": [
    "hour_load = {'Mon':{},'Tue':{},'Wed':{},'Thu':{},\"Fri\":{},'Sat':{},'Sun':{}}\n",
    "\n",
    "for day in day_station.keys():\n",
    "    df = pd.DataFrame.from_dict(day_station[day], orient='index')\n",
    "    day_load[day] = df.values.mean()"
   ]
  },
  {
   "cell_type": "code",
   "execution_count": null,
   "id": "11ca8501",
   "metadata": {},
   "outputs": [],
   "source": []
  }
 ],
 "metadata": {
  "kernelspec": {
   "display_name": "Python 3 (ipykernel)",
   "language": "python",
   "name": "python3"
  },
  "language_info": {
   "codemirror_mode": {
    "name": "ipython",
    "version": 3
   },
   "file_extension": ".py",
   "mimetype": "text/x-python",
   "name": "python",
   "nbconvert_exporter": "python",
   "pygments_lexer": "ipython3",
   "version": "3.8.16"
  }
 },
 "nbformat": 4,
 "nbformat_minor": 5
}
